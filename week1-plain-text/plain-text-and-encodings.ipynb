{
 "cells": [
  {
   "cell_type": "markdown",
   "id": "b4ce9d0c",
   "metadata": {},
   "source": [
    "# Plain text and text encodings\n",
    "\n",
    "### *Michaelmas Term 2025*"
   ]
  },
  {
   "cell_type": "markdown",
   "id": "0febe290",
   "metadata": {},
   "source": [
    "## Aims for these sessions\n",
    "\n",
    "- enough Python so that you can recognise some features and feel some familiarity\n",
    "- cover some DH basics\n",
    "- a little bit of computer science to help understand some the above"
   ]
  },
  {
   "cell_type": "markdown",
   "id": "d33823f6",
   "metadata": {},
   "source": [
    "### What is Python and what can it do?\n",
    "\n",
    "It's a free, open-source general purpose language. Nowadays the only version to use is Python 3 and the most up-to-date release is 3.14 (Python 2 is maintained on some systems for legacy reasons but new code should not be written in it). \n",
    "\n",
    "Python can essentially do anything a computer can do, although it might not be the best choice for some things. It's a first choice for a lot of data science work and has become the main language for machine learning/AI.\n",
    "\n",
    "Because of its breadth, there will always be areas of Python that are unfamiliar. If you know the fundamentals and have some practice, you'll be able to understand lots of Python code, even if the applications of it are different from what you're used to."
   ]
  },
  {
   "cell_type": "markdown",
   "id": "c29f56e0",
   "metadata": {},
   "source": [
    "### How do you run Python?\n",
    "\n",
    "If you have Python installed\n",
    "- Run a Python script (a text file with a ```.py``` extension) from the command line: ```python myscript.py```\n",
    "- From the built-in Python shell from the command line: type ```python``` and return and you'll get a prompt: this is an exploratory environment where you can try snippets\n",
    "- From an installed shell like ```iPython```: a more full featured version of the above\n",
    "- From an installed program like Jupyter Notebook, which runs in a browser\n",
    "\n",
    "Online\n",
    "- Google Colab, \n",
    "- Python Anywhere\n",
    "- GitHub Actions\n",
    "- many other including 'playgrounds'"
   ]
  },
  {
   "cell_type": "markdown",
   "id": "aee03609",
   "metadata": {},
   "source": [
    "Before we start running some Python, save a copy of this notebook in Drive (you can ignore the warnings). You always need to do this with an imported notebook in Colab, so that any changes you make persist and you keep your own copy of the notebook."
   ]
  },
  {
   "cell_type": "markdown",
   "id": "8e8b7ccf",
   "metadata": {},
   "source": [
    "Let's read the opening paragraph of Jane Austen's 1817 novel *Persuasion* using Python."
   ]
  },
  {
   "cell_type": "code",
   "execution_count": null,
   "id": "00108e21",
   "metadata": {},
   "outputs": [],
   "source": [
    "persuasion_snippet = \"\"\"Sir Walter Elliot, of Kellynch Hall, in Somersetshire, was a man who,\n",
    "for his own amusement, never took up any book but the Baronetage; there\n",
    "he found occupation for an idle hour, and consolation in a distressed\n",
    "one; there his faculties were roused into admiration and respect, by\n",
    "contemplating the limited remnant of the earliest patents; there any\n",
    "unwelcome sensations, arising from domestic affairs changed naturally\n",
    "into pity and contempt as he turned over the almost endless creations\n",
    "of the last century; and there, if every other leaf were powerless, he\n",
    "could read his own history with an interest which never failed. This\n",
    "was the page at which the favourite volume always opened:\n",
    "\"\"\""
   ]
  },
  {
   "cell_type": "code",
   "execution_count": null,
   "id": "1271d26a",
   "metadata": {},
   "outputs": [],
   "source": [
    "persuasion_snippet"
   ]
  },
  {
   "cell_type": "markdown",
   "id": "6a49e9ed",
   "metadata": {},
   "source": [
    "This is plain text. You can see exactly what's going on, even the line breaks. Plain text is easy to work with. For example we can see the line breaks are encoded `\\n` so we can remove them if we like."
   ]
  },
  {
   "cell_type": "code",
   "execution_count": null,
   "id": "4addf4e5",
   "metadata": {},
   "outputs": [],
   "source": [
    "persuasion_snippet_no_line_breaks = persuasion_snippet.replace(\"\\n\", \" \")"
   ]
  },
  {
   "cell_type": "code",
   "execution_count": null,
   "id": "b1240b2e",
   "metadata": {},
   "outputs": [],
   "source": [
    "persuasion_snippet_no_line_breaks"
   ]
  },
  {
   "cell_type": "markdown",
   "id": "a279a0a8",
   "metadata": {},
   "source": [
    "What about reading in a Word file containing the whole of *Persuasion*? First we need to get the files we're using today to somewhere Colab can read them:"
   ]
  },
  {
   "cell_type": "code",
   "execution_count": null,
   "id": "df54a3e5",
   "metadata": {},
   "outputs": [],
   "source": [
    "!wget https://raw.githubusercontent.com/jonathanblaney/2025-1-plain-text/refs/heads/main/persuasion.txt\n",
    "!wget https://raw.githubusercontent.com/jonathanblaney/2025-1-plain-text/refs/heads/main/persuasion.docx\n",
    "!wget https://raw.githubusercontent.com/jonathanblaney/2025-1-plain-text/refs/heads/main/emma.txt\n",
    "!wget https://raw.githubusercontent.com/jonathanblaney/2025-1-plain-text/refs/heads/main/plain-text-emojis.docx\n",
    "!wget https://raw.githubusercontent.com/jonathanblaney/2025-1-plain-text/refs/heads/main/plain-text-emojis-to-unzip.docx\n",
    "    "
   ]
  },
  {
   "cell_type": "code",
   "execution_count": null,
   "id": "25ef323e",
   "metadata": {},
   "outputs": [],
   "source": [
    "with open('persuasion.docx', 'r') as f:\n",
    "    persuasion = f.read()"
   ]
  },
  {
   "cell_type": "markdown",
   "id": "0f40f7e1",
   "metadata": {},
   "source": [
    "When learning and using Python it's important not to be worried by errors. They're normal and you should try to see them as Python being helpful!\n",
    "\n",
    "Read error messages from the bottom up. There are about 50 error types in Python and this one is a `UnicodeDecodeError` and talks about 'utf-8'. Unicode and utf-8 are both associated with plain-text formats and Python is saying that Word is not giving us that."
   ]
  },
  {
   "cell_type": "markdown",
   "id": "f86196d5",
   "metadata": {},
   "source": [
    "A ```docx``` file is not really a single file. It's a zip file containing multiple files. The same is true of ```xlsx``` files and many other formats. You can use Python to open Word and Excel files, but it's not straightforward."
   ]
  },
  {
   "cell_type": "markdown",
   "id": "56e86316",
   "metadata": {},
   "source": [
    "In Python it is straightforward to work with plain text. With ```persuasion.txt``` in the same folder as this notebook, we can read in the whole of Austen's _Persuasion_ like this (this is the same code as above, just changing the file name from `docx` to `txt`."
   ]
  },
  {
   "cell_type": "code",
   "execution_count": null,
   "id": "41ddb063",
   "metadata": {},
   "outputs": [],
   "source": [
    "with open('persuasion.txt', 'r') as f:\n",
    "    persuasion = f.read()"
   ]
  },
  {
   "cell_type": "markdown",
   "id": "977e4cc1",
   "metadata": {},
   "source": [
    "Now ```persuasion``` is a variable pointing at the full text of _Persuasion_. We can view the contents of a variable in Colab just by typing it in a code cell.\n",
    "\n",
    "What usable information do we have here? What information can we get from plain text?"
   ]
  },
  {
   "cell_type": "code",
   "execution_count": null,
   "id": "05c23b6a",
   "metadata": {},
   "outputs": [],
   "source": [
    "persuasion"
   ]
  },
  {
   "cell_type": "markdown",
   "id": "1f6a7b8b",
   "metadata": {},
   "source": [
    "Notice that this is fast. Plain text like this is very fast on a modern computer. But it's not very convenient for reading a novel."
   ]
  },
  {
   "cell_type": "markdown",
   "id": "6b16fbe4",
   "metadata": {},
   "source": [
    "We can see parts of the text using Python's _slice_ notation. The numbers are character positions within the big text string which is ```persuasion```. Try changing these to get a different slice."
   ]
  },
  {
   "cell_type": "code",
   "execution_count": null,
   "id": "4892ce31",
   "metadata": {},
   "outputs": [],
   "source": [
    "persuasion[2000:3000]"
   ]
  },
  {
   "cell_type": "markdown",
   "id": "c7a9b23f",
   "metadata": {},
   "source": [
    "How many characters are there in total? We can get this with the ```len``` function:"
   ]
  },
  {
   "cell_type": "code",
   "execution_count": null,
   "id": "05ee6245",
   "metadata": {},
   "outputs": [],
   "source": [
    "len(persuasion)"
   ]
  },
  {
   "cell_type": "markdown",
   "id": "35985609",
   "metadata": {},
   "source": [
    "Does this seem reasonable? How many characters in the average novel? How many words?"
   ]
  },
  {
   "cell_type": "code",
   "execution_count": null,
   "id": "3217a11b",
   "metadata": {},
   "outputs": [],
   "source": [
    "persuasion = persuasion.replace(\"\\n\", \" \")"
   ]
  },
  {
   "cell_type": "markdown",
   "id": "7aee96dc",
   "metadata": {},
   "source": [
    "The line endings are annoying. As we did above, we can get rid of them using Python's ```replace``` method, which works on sequences of characters (strings)."
   ]
  },
  {
   "cell_type": "code",
   "execution_count": null,
   "id": "a46b5a7c",
   "metadata": {},
   "outputs": [],
   "source": [
    "persuasion[1000:2000]"
   ]
  },
  {
   "cell_type": "markdown",
   "id": "8becfd08",
   "metadata": {},
   "source": [
    "What else can we do with built-in methods? Colab will help you. Type ```.``` after the variable you want to do something with (in this case ```persuasion```). A list should pop up. This will show the string methods available."
   ]
  },
  {
   "cell_type": "code",
   "execution_count": null,
   "id": "8e78b975",
   "metadata": {},
   "outputs": [],
   "source": [
    "persuasion."
   ]
  },
  {
   "cell_type": "markdown",
   "id": "7c94ee43",
   "metadata": {},
   "source": [
    "The methods available with ```persuasion``` depend on what type of thing ```persuasion``` is. We can find out with ```type```. This is a very useful function in Python because it's easy to be under a misapprehension about what you're dealing with (which leads to a ```type error```)."
   ]
  },
  {
   "cell_type": "code",
   "execution_count": null,
   "id": "d39ae4f5",
   "metadata": {},
   "outputs": [],
   "source": [
    "type(persuasion)"
   ]
  },
  {
   "cell_type": "markdown",
   "id": "90325d79",
   "metadata": {},
   "source": [
    "So ```persuasion``` is a string and we can use any of Python's built-in string methods on it. Let's try ```find```. Anne Elliot is the principal character in _Persuasion_ so let's look for _Anne_"
   ]
  },
  {
   "cell_type": "code",
   "execution_count": null,
   "id": "7b42f237",
   "metadata": {},
   "outputs": [],
   "source": [
    "persuasion.find(\"Anne\")"
   ]
  },
  {
   "cell_type": "markdown",
   "id": "7d5e8ebc",
   "metadata": {},
   "source": [
    "Wait, what does ```2133``` refer to? You can get help on a particular method by running the cell with a ```?```appended:"
   ]
  },
  {
   "cell_type": "code",
   "execution_count": null,
   "id": "4f23ee0d",
   "metadata": {},
   "outputs": [],
   "source": [
    "persuasion.find?"
   ]
  },
  {
   "cell_type": "markdown",
   "id": "b365109d",
   "metadata": {},
   "source": [
    "This is perhaps a bit abstruse but it means that _Anne_ first occurs in our _Persuasion_ string at character number 2133. Is that useful?"
   ]
  },
  {
   "cell_type": "markdown",
   "id": "27822510",
   "metadata": {},
   "source": [
    "Let's try the ```count``` method. That seems like it should count the number of occurrences of something, but we can check."
   ]
  },
  {
   "cell_type": "code",
   "execution_count": null,
   "id": "24d8b2fc",
   "metadata": {},
   "outputs": [],
   "source": [
    "persuasion.count?"
   ]
  },
  {
   "cell_type": "code",
   "execution_count": null,
   "id": "ff79d992",
   "metadata": {},
   "outputs": [],
   "source": [
    "persuasion.count(\"Anne\")"
   ]
  },
  {
   "cell_type": "markdown",
   "id": "1873d6de",
   "metadata": {},
   "source": [
    "We have to be careful with results like these. Does it mean that the person _Anne_ is mentioned 496 times in _Persuasion_? Maybe, but is there a character called _Annette_ or a trip to _Annecy_ in France? Is there even another character called Anne who is not Anne Elliot?"
   ]
  },
  {
   "cell_type": "code",
   "execution_count": null,
   "id": "01100999",
   "metadata": {},
   "outputs": [],
   "source": [
    "persuasion.count(\"Anne Elliot\")"
   ]
  },
  {
   "cell_type": "code",
   "execution_count": null,
   "id": "18c597d8",
   "metadata": {},
   "outputs": [],
   "source": [
    "persuasion.count(\"Miss Elliot\")"
   ]
  },
  {
   "cell_type": "markdown",
   "id": "2e1ec0c7",
   "metadata": {},
   "source": [
    "Notice that when we get the length of _Persuasion_ the syntax is different from when we count occurrences:\n",
    "    \n",
    "```len(persuasion)```\n",
    "\n",
    "```persuasion.count(\"Anne\")```"
   ]
  },
  {
   "cell_type": "markdown",
   "id": "348ba0d6",
   "metadata": {},
   "source": [
    "```len``` is a _function_ but ```count``` is a particular type of function, called a _method_.\n",
    "\n",
    "Why do you get an error if you run ```len``` on an integer, eg ```len(5)```? Why isn't the answer 1?"
   ]
  },
  {
   "cell_type": "markdown",
   "id": "4a522162",
   "metadata": {},
   "source": [
    "### Group work (or homework)"
   ]
  },
  {
   "cell_type": "markdown",
   "id": "40875488",
   "metadata": {},
   "source": [
    "Keeping to the constraint of not importing any Python modules, just using built-in methods and functions, what else can you do with _Persuasion_?\n",
    "\n",
    "- [list of string methods with examples](https://www.tutorialstonight.com/python/python-string-methods)\n",
    "\n",
    "\n",
    "Here are some ideas, but feel free to do your own thing:\n",
    "- divide up the text into equal chunks and look for distributions of words of phrases through the novel\n",
    "- get some context around a string you find using slice notation (yes this is very crude)\n",
    "- split the text on spaces using the ```split``` method. What are the pros and cons of this? \n",
    "- don't forget that you can use ```persuasion.``` and ```persuasion.method?``` to find out about other string methods; are these useful?"
   ]
  },
  {
   "cell_type": "markdown",
   "id": "bb689588",
   "metadata": {},
   "source": [
    "If you get through all of that, well done! Now try importing another Jane Austen novel, *Emma*, which is saved in the same place as `persuasion.txt` with the name `emma.txt`. Can you produce some comparative figures for the two novels?"
   ]
  }
 ],
 "metadata": {
  "kernelspec": {
   "display_name": "Python 3 (ipykernel)",
   "language": "python",
   "name": "python3"
  },
  "language_info": {
   "codemirror_mode": {
    "name": "ipython",
    "version": 3
   },
   "file_extension": ".py",
   "mimetype": "text/x-python",
   "name": "python",
   "nbconvert_exporter": "python",
   "pygments_lexer": "ipython3",
   "version": "3.9.6"
  }
 },
 "nbformat": 4,
 "nbformat_minor": 5
}
